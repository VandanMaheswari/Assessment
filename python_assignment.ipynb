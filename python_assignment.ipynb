{
 "cells": [
  {
   "cell_type": "code",
   "execution_count": 5,
   "metadata": {},
   "outputs": [
    {
     "data": {
      "text/plain": [
       "'nadnav'"
      ]
     },
     "execution_count": 5,
     "metadata": {},
     "output_type": "execute_result"
    }
   ],
   "source": [
    "# 1. a Python program to reverse a string without using any built-in string reversal functions.\n",
    "def reverse_str(strr):\n",
    "    str1 = ''\n",
    "    for i in strr:\n",
    "        str1 = i + str1\n",
    "    \n",
    "    return str1\n",
    "\n",
    "\n",
    "reverse_str(\"vandan\")    "
   ]
  },
  {
   "cell_type": "code",
   "execution_count": 9,
   "metadata": {},
   "outputs": [
    {
     "data": {
      "text/plain": [
       "True"
      ]
     },
     "execution_count": 9,
     "metadata": {},
     "output_type": "execute_result"
    }
   ],
   "source": [
    "# 2.Implement a function to check if a given string is a palindrome.\n",
    "\n",
    "str1 = \"madam\"\n",
    "def pali_check(str1):\n",
    "    if str1 == reverse_str(str1):\n",
    "        return True\n",
    "    else:\n",
    "        return False\n",
    "    \n",
    "pali_check(str1)    "
   ]
  },
  {
   "cell_type": "code",
   "execution_count": 10,
   "metadata": {},
   "outputs": [
    {
     "name": "stdout",
     "output_type": "stream",
     "text": [
      "20\n"
     ]
    }
   ],
   "source": [
    "# Write a program to find the largest element in a given list.\n",
    "def largest_ele(lst):\n",
    "    largest = lst[0]\n",
    "    for num in lst:\n",
    "        if num > largest:\n",
    "            largest = num\n",
    "    return largest\n",
    "\n",
    "# Example usage\n",
    "numbers = [10, 5, 20, 15, 8]\n",
    "largest_number = largest_ele(numbers)\n",
    "print(largest_number)"
   ]
  },
  {
   "cell_type": "code",
   "execution_count": 17,
   "metadata": {},
   "outputs": [
    {
     "data": {
      "text/plain": [
       "{1: 4, 2: 1, 3: 2, 4: 2, 5: 2, 6: 1, 67: 1, 8: 1, 9: 1}"
      ]
     },
     "execution_count": 17,
     "metadata": {},
     "output_type": "execute_result"
    }
   ],
   "source": [
    "# Implement a function to count the occurrence of each element in a list.\n",
    "\n",
    "li = [1,1,1,3,4,5,6,67,8,9,1,2,3,4,5]\n",
    "\n",
    "def freq_count(li):\n",
    "    distinct = set(li)\n",
    "    dic = {}\n",
    "\n",
    "    for i in distinct:\n",
    "        count = 0\n",
    "        for j in li:\n",
    "            if i == j :\n",
    "                count = count +1\n",
    "        dic[i] = count       \n",
    "    \n",
    "    return dic     \n",
    "\n",
    "freq_count(li)"
   ]
  },
  {
   "cell_type": "code",
   "execution_count": 26,
   "metadata": {},
   "outputs": [
    {
     "name": "stdout",
     "output_type": "stream",
     "text": [
      "15\n"
     ]
    }
   ],
   "source": [
    "# Write a Python program to find the second largest number in a list.\n",
    "\n",
    "\n",
    "def find_second_largest(lst):\n",
    "    if len(lst) < 2:\n",
    "        return None\n",
    "    largest = lst[0]\n",
    "    second_largest = None\n",
    "    for num in lst[1:]:\n",
    "        if num > largest:\n",
    "            second_largest = largest\n",
    "            largest = num\n",
    "        elif num < largest:\n",
    "            if second_largest is None or num > second_largest:\n",
    "                second_largest = num\n",
    "    return second_largest\n",
    "\n",
    "# Example usage\n",
    "numbers = [10, 5, 20, 15, 8]\n",
    "second_largest_number = find_second_largest(numbers)\n",
    "print(second_largest_number)       "
   ]
  },
  {
   "cell_type": "code",
   "execution_count": 27,
   "metadata": {},
   "outputs": [
    {
     "data": {
      "text/plain": [
       "{1, 2, 3, 4, 5, 6}"
      ]
     },
     "execution_count": 27,
     "metadata": {},
     "output_type": "execute_result"
    }
   ],
   "source": [
    "# Implement a function to remove duplicate elements from a list.\n",
    "def dup_rem(li):\n",
    "    return set(li)\n",
    "\n",
    "li = [1,2,1,2,1,3,4,5,3,4,5,6]\n",
    "dup_rem(li)"
   ]
  },
  {
   "cell_type": "code",
   "execution_count": 28,
   "metadata": {},
   "outputs": [
    {
     "name": "stdout",
     "output_type": "stream",
     "text": [
      "120\n"
     ]
    }
   ],
   "source": [
    "# Write a program to calculate the factorial of a given number.\n",
    "\n",
    "def factorial(n):\n",
    "    if n == 0:\n",
    "        return 1\n",
    "    else:\n",
    "        return n * factorial(n - 1)\n",
    "\n",
    "# Example usage\n",
    "num = 5\n",
    "factorial_result = factorial(num)\n",
    "print(factorial_result)\n"
   ]
  },
  {
   "cell_type": "code",
   "execution_count": 29,
   "metadata": {},
   "outputs": [
    {
     "name": "stdout",
     "output_type": "stream",
     "text": [
      "True\n",
      "False\n"
     ]
    }
   ],
   "source": [
    "# Implement a function to check if a given number is prime.\n",
    "\n",
    "def is_prime(n):\n",
    "    if n <= 1:\n",
    "        return False\n",
    "    for i in range(2, int(n ** 0.5) + 1):\n",
    "        if n % i == 0:\n",
    "            return False\n",
    "    return True\n",
    "\n",
    "# Example usage\n",
    "number = 17\n",
    "print(is_prime(number))  # True\n",
    "\n",
    "number = 10\n",
    "print(is_prime(number))  # False\n"
   ]
  },
  {
   "cell_type": "code",
   "execution_count": 30,
   "metadata": {},
   "outputs": [
    {
     "name": "stdout",
     "output_type": "stream",
     "text": [
      "[1, 2, 5, 8, 9]\n"
     ]
    }
   ],
   "source": [
    "# Write a Python program to sort a list of integers in ascending order.\n",
    "def sort_list(lst):\n",
    "    return sorted(lst)\n",
    "\n",
    "# Example usage\n",
    "numbers = [5, 2, 8, 1, 9]\n",
    "sorted_numbers = sort_list(numbers)\n",
    "print(sorted_numbers)\n"
   ]
  },
  {
   "cell_type": "code",
   "execution_count": 32,
   "metadata": {},
   "outputs": [
    {
     "name": "stdout",
     "output_type": "stream",
     "text": [
      "15\n"
     ]
    }
   ],
   "source": [
    "# Implement a function to find the sum of all numbers in a list.\n",
    "def find_sum(lst):\n",
    "    return sum(lst)\n",
    "\n",
    "# Example usage\n",
    "numbers = [1, 2, 3, 4, 5]\n",
    "sum_of_numbers = find_sum(numbers)\n",
    "print(sum_of_numbers)\n"
   ]
  },
  {
   "cell_type": "code",
   "execution_count": 41,
   "metadata": {},
   "outputs": [
    {
     "name": "stdout",
     "output_type": "stream",
     "text": [
      "[4, 5]\n"
     ]
    }
   ],
   "source": [
    "# Write a program to find the common elements between two lists.\n",
    "\n",
    "\n",
    "def find_common_elements(list1, list2):\n",
    "    return list(set(list1) & set(list2))\n",
    "\n",
    "# Example usage\n",
    "list1 = [1, 2, 3, 4, 5]\n",
    "list2 = [4, 5, 6, 7, 8]\n",
    "common_elements = find_common_elements(list1, list2)\n",
    "print(common_elements)\n"
   ]
  },
  {
   "cell_type": "code",
   "execution_count": 43,
   "metadata": {},
   "outputs": [
    {
     "name": "stdout",
     "output_type": "stream",
     "text": [
      "True\n",
      "False\n"
     ]
    }
   ],
   "source": [
    "# Implement a function to check if a given string is an anagram of another string.\n",
    "def is_anagram(str1, str2):\n",
    "    return sorted(str1.lower()) == sorted(str2.lower())\n",
    "\n",
    "# Example usage\n",
    "string1 = \"listen\"\n",
    "string2 = \"silent\"\n",
    "print(is_anagram(string1, string2))  # True\n",
    "\n",
    "string1 = \"hello\"\n",
    "string2 = \"world\"\n",
    "print(is_anagram(string1, string2))  # False\n"
   ]
  },
  {
   "cell_type": "code",
   "execution_count": 58,
   "metadata": {},
   "outputs": [
    {
     "name": "stdout",
     "output_type": "stream",
     "text": [
      "3.5\n"
     ]
    }
   ],
   "source": [
    "# Write a program to find the median of a list of numbers.\n",
    "li = [1,2,3,4,5,6]\n",
    "n =0\n",
    "if (len(li))%2 != 0:\n",
    "    n = len(li)/2 -0.5\n",
    "    print(li[int(n)])\n",
    "else:\n",
    "    sum = (li[int(len(li)/2)] + li[int(len(li)/2)-1])/2\n",
    "    print(sum)  "
   ]
  },
  {
   "cell_type": "code",
   "execution_count": 60,
   "metadata": {},
   "outputs": [
    {
     "name": "stdout",
     "output_type": "stream",
     "text": [
      "True\n",
      "False\n"
     ]
    }
   ],
   "source": [
    "# 16. Implement a function to check if a given list is sorted in non-decreasing order.\n",
    "def is_sorted(lst):\n",
    "    n = len(lst)\n",
    "    for i in range(1, n):\n",
    "        if lst[i] < lst[i-1]:\n",
    "            return False\n",
    "    return True\n",
    "\n",
    "# Example usage\n",
    "numbers1 = [1, 2, 3, 4, 5]\n",
    "print(is_sorted(numbers1))  # True\n",
    "\n",
    "numbers2 = [5, 3, 1, 4, 2]\n",
    "print(is_sorted(numbers2))  # False\n"
   ]
  },
  {
   "cell_type": "code",
   "execution_count": 64,
   "metadata": {},
   "outputs": [
    {
     "data": {
      "text/plain": [
       "[3, 4]"
      ]
     },
     "execution_count": 64,
     "metadata": {},
     "output_type": "execute_result"
    }
   ],
   "source": [
    "# 17. Write a Python program to find the intersection of two lists.\n",
    "def intersect(li1,li2):\n",
    "    li = list(set(li1) & set(li2))\n",
    "    return li\n",
    "\n",
    "intersect([1,2,3,4] , [3,4,5,6])"
   ]
  },
  {
   "cell_type": "code",
   "execution_count": 65,
   "metadata": {},
   "outputs": [
    {
     "name": "stdout",
     "output_type": "stream",
     "text": [
      "6\n"
     ]
    }
   ],
   "source": [
    "# 18. Implement a function to find the maximum subarray sum in a given list\n",
    "def max_subarray_sum(lst):\n",
    "    max_sum = lst[0]\n",
    "    current_sum = lst[0]\n",
    "\n",
    "    for num in lst[1:]:\n",
    "        current_sum = max(num, current_sum + num)\n",
    "        max_sum = max(max_sum, current_sum)\n",
    "\n",
    "    return max_sum\n",
    "\n",
    "# Example usage\n",
    "numbers = [-2, 1, -3, 4, -1, 2, 1, -5, 4]\n",
    "max_sum = max_subarray_sum(numbers)\n",
    "print(max_sum)\n"
   ]
  },
  {
   "cell_type": "code",
   "execution_count": 70,
   "metadata": {},
   "outputs": [
    {
     "name": "stdout",
     "output_type": "stream",
     "text": [
      "vndn\n"
     ]
    }
   ],
   "source": [
    "# 19. Write a program to remove all vowels from a given string.\n",
    "str = \"vandan\"\n",
    "str12 = \"\"\n",
    "for i in str:\n",
    "    if i not in \"aeiou\":\n",
    "        str12 = str12 + i\n",
    "print(str12)        \n",
    "    "
   ]
  },
  {
   "cell_type": "code",
   "execution_count": 86,
   "metadata": {},
   "outputs": [
    {
     "name": "stdout",
     "output_type": "stream",
     "text": [
      "['maheshwari', 'vandan', 'am', 'i']\n"
     ]
    }
   ],
   "source": [
    "# 20. Implement a function to reverse the order of words in a given sentence.\n",
    "words = \"i am vandan maheshwari\"\n",
    "words = words.split()\n",
    "li = []\n",
    "for i in range (len(words)-1,-1,-1):\n",
    "    li.append(words[i])\n",
    "    \n",
    "print(li)    \n",
    "    "
   ]
  },
  {
   "cell_type": "code",
   "execution_count": 89,
   "metadata": {},
   "outputs": [
    {
     "name": "stdout",
     "output_type": "stream",
     "text": [
      "yes this both are anagram of each other\n"
     ]
    }
   ],
   "source": [
    "#  Write a Python program to check if two strings are anagrams of each other.\n",
    "str1 = \"silent\"\n",
    "str2 = \"listen\"\n",
    "\n",
    "str1 = sorted(str1)\n",
    "str2 = sorted(str2)\n",
    "\n",
    "if str1 == str2:\n",
    "    print(\"yes this both are anagram of each other\")\n",
    "else:\n",
    "    print(\"no they are not\")    "
   ]
  },
  {
   "cell_type": "code",
   "execution_count": null,
   "metadata": {},
   "outputs": [],
   "source": []
  }
 ],
 "metadata": {
  "kernelspec": {
   "display_name": "Python 3",
   "language": "python",
   "name": "python3"
  },
  "language_info": {
   "codemirror_mode": {
    "name": "ipython",
    "version": 3
   },
   "file_extension": ".py",
   "mimetype": "text/x-python",
   "name": "python",
   "nbconvert_exporter": "python",
   "pygments_lexer": "ipython3",
   "version": "3.10.7"
  },
  "orig_nbformat": 4
 },
 "nbformat": 4,
 "nbformat_minor": 2
}
